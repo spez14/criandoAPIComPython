{
 "cells": [
  {
   "cell_type": "code",
   "execution_count": 3,
   "id": "b910b164",
   "metadata": {},
   "outputs": [
    {
     "name": "stdout",
     "output_type": "stream",
     "text": [
      "<Response [200]>\n",
      "{'total_vendas': 3026.1000000000004}\n",
      "3026.1000000000004\n"
     ]
    }
   ],
   "source": [
    "import requests\n",
    "\n",
    "link = 'https://MinhaAPI.p4000.repl.co/pegarvendas'\n",
    "\n",
    "requisicao = requests.get(link)\n",
    "\n",
    "print(requisicao)\n",
    "print(requisicao.json())\n",
    "\n",
    "dicionario = requisicao.json()\n",
    "\n",
    "print(dicionario['total_vendas'])"
   ]
  },
  {
   "cell_type": "code",
   "execution_count": null,
   "id": "4075de50",
   "metadata": {},
   "outputs": [],
   "source": []
  }
 ],
 "metadata": {
  "kernelspec": {
   "display_name": "Python 3",
   "language": "python",
   "name": "python3"
  },
  "language_info": {
   "codemirror_mode": {
    "name": "ipython",
    "version": 3
   },
   "file_extension": ".py",
   "mimetype": "text/x-python",
   "name": "python",
   "nbconvert_exporter": "python",
   "pygments_lexer": "ipython3",
   "version": "3.8.8"
  }
 },
 "nbformat": 4,
 "nbformat_minor": 5
}
